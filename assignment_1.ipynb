{
 "cells": [
  {
   "cell_type": "markdown",
   "metadata": {},
   "source": [
    "# Assignment 1\n",
    "#### Name: Immanuel Ponminissery\n",
    "#### UT EID: ijp284"
   ]
  },
  {
   "cell_type": "markdown",
   "metadata": {},
   "source": [
    "# S&P 500"
   ]
  },
  {
   "cell_type": "code",
   "execution_count": 1,
   "metadata": {},
   "outputs": [],
   "source": [
    "#importing required packages\n",
    "import pandas as pd\n",
    "import numpy as np\n",
    "import re\n",
    "from datetime import datetime\n",
    "import matplotlib\n",
    "import matplotlib.pyplot as plt\n",
    "import matplotlib.dates as md"
   ]
  },
  {
   "cell_type": "code",
   "execution_count": 2,
   "metadata": {},
   "outputs": [],
   "source": [
    "#importing raw file from WRDS and computing Market Cap and other adjustments\n",
    "df = pd.read_csv('hw1_v4.csv')\n",
    "df['date']=df['date'].apply(lambda x: pd.to_datetime(str(x), format='%Y%m%d'))\n",
    "df['Market Cap'] = abs(df['PRC'])*df['SHROUT']\n",
    "df['Adjusted prices'] = df['PRC']/df['CFACPR']\n",
    "df['Adjusted shares'] = df['SHROUT']*df['CFACSHR']\n",
    "#taking only common stock\n",
    "df_only_stock = df[(df['SHRCD']==11) | (df['SHRCD']==10)].copy()"
   ]
  },
  {
   "cell_type": "code",
   "execution_count": 3,
   "metadata": {},
   "outputs": [],
   "source": [
    "#function for finding end of year rows\n",
    "def is_end_of_year(date):\n",
    "    if date.month == 12:\n",
    "        return True\n",
    "    else:\n",
    "        return False"
   ]
  },
  {
   "cell_type": "code",
   "execution_count": 4,
   "metadata": {},
   "outputs": [
    {
     "name": "stderr",
     "output_type": "stream",
     "text": [
      "C:\\Users\\ImmanuelJP\\Anaconda3\\lib\\site-packages\\ipykernel_launcher.py:6: SettingWithCopyWarning: \n",
      "A value is trying to be set on a copy of a slice from a DataFrame.\n",
      "Try using .loc[row_indexer,col_indexer] = value instead\n",
      "\n",
      "See the caveats in the documentation: https://pandas.pydata.org/pandas-docs/stable/user_guide/indexing.html#returning-a-view-versus-a-copy\n",
      "  \n"
     ]
    }
   ],
   "source": [
    "# reconstitute contains the companys that will be used for each year\n",
    "mask = df_only_stock['date'].map(is_end_of_year)\n",
    "only_end_of_year = df_only_stock[mask].copy()\n",
    "only_end_of_year_sorted = only_end_of_year.sort_values(['date','Market Cap'],ascending=False).copy()\n",
    "reconstitute = only_end_of_year_sorted.groupby('date').head(505)\n",
    "reconstitute['year'] = reconstitute['date'].dt.year\n",
    "reconstitute = reconstitute.drop_duplicates(subset=['date', 'PERMNO'], keep='last')"
   ]
  },
  {
   "cell_type": "code",
   "execution_count": 5,
   "metadata": {},
   "outputs": [],
   "source": [
    "#I am also just cleaning up the data set here and adding columns\n",
    "#year, quarter and month so that things are easier later\n",
    "df_only_stock['year'] = df_only_stock['date'].dt.year\n",
    "df_only_stock['quarter'] = df_only_stock['date'].dt.quarter\n",
    "df_only_stock['month'] = df_only_stock['date'].dt.month\n",
    "df_only_stock = df_only_stock.drop_duplicates(subset=['date', 'PERMNO'], keep='last')"
   ]
  },
  {
   "cell_type": "code",
   "execution_count": 6,
   "metadata": {},
   "outputs": [],
   "source": [
    "#Here I am initializing the required parameters to go through the loop that\n",
    "#will show up soon\n",
    "years = [2010,2011,2012,2013,2014,2015,2016,2017,2018,2019]\n",
    "quarters = [1,2,3,4]\n",
    "insert = pd.DataFrame()"
   ]
  },
  {
   "cell_type": "code",
   "execution_count": 7,
   "metadata": {},
   "outputs": [],
   "source": [
    "#The loop below computes temporary weights for every quarter and then merges it\n",
    "#to a dataframe every month. This data frame is then appended to the blank \n",
    "#dataframe created in the previous step.\n",
    "c = list(df_only_stock.columns)\n",
    "c.append('weights')\n",
    "for year in years:#going over every year\n",
    "    list_of_companies = reconstitute[reconstitute['year'] == year-1][['PERMNO','TICKER','COMNAM']]\n",
    "    for quarter in quarters:#going over every quarter. The if statement below assigns weights based on quarter.\n",
    "        if quarter == 1:\n",
    "            temp_weights = df_only_stock[(df_only_stock['quarter'] == 4) & (df_only_stock['year'] == year-1) & (df_only_stock['month'] == 12)].merge(list_of_companies, how = 'inner')\n",
    "            temp_weights['weights'] = temp_weights['Market Cap']/temp_weights['Market Cap'].sum()\n",
    "            temp_monthly = df_only_stock[(df_only_stock['quarter'] == 1) & (df_only_stock['year'] == year)].merge(temp_weights, how = 'inner', on = 'PERMNO', suffixes= (None, '_y'))\n",
    "            insert = insert.append(temp_monthly[c],ignore_index = True)\n",
    "        elif quarter == 2:\n",
    "            temp_weights = df_only_stock[(df_only_stock['quarter'] == 1) & (df_only_stock['year'] == year) & (df_only_stock['month'] == 3)].merge(list_of_companies, how = 'inner')\n",
    "            temp_weights['weights'] = temp_weights['Market Cap']/temp_weights['Market Cap'].sum()\n",
    "            temp_monthly = df_only_stock[(df_only_stock['quarter'] == 2) & (df_only_stock['year'] == year)].merge(temp_weights, how = 'inner', on = 'PERMNO', suffixes= (None, '_y'))\n",
    "            insert = insert.append(temp_monthly[c],ignore_index = True)\n",
    "        elif quarter == 3:\n",
    "            temp_weights = df_only_stock[(df_only_stock['quarter'] == 2) & (df_only_stock['year'] == year) & (df_only_stock['month'] == 6)].merge(list_of_companies, how = 'inner')\n",
    "            temp_weights['weights'] = temp_weights['Market Cap']/temp_weights['Market Cap'].sum()\n",
    "            temp_monthly = df_only_stock[(df_only_stock['quarter'] == 3) & (df_only_stock['year'] == year)].merge(temp_weights, how = 'inner', on = 'PERMNO', suffixes= (None, '_y'))\n",
    "            insert = insert.append(temp_monthly[c],ignore_index = True)\n",
    "        else:\n",
    "            temp_weights = df_only_stock[(df_only_stock['quarter'] == 3) & (df_only_stock['year'] == year) & (df_only_stock['month'] == 9)].merge(list_of_companies, how = 'inner')\n",
    "            temp_weights['weights'] = temp_weights['Market Cap']/temp_weights['Market Cap'].sum()\n",
    "            temp_monthly = df_only_stock[(df_only_stock['quarter'] == 4) & (df_only_stock['year'] == year)].merge(temp_weights, how = 'inner', on = 'PERMNO', suffixes= (None, '_y'))\n",
    "            insert = insert.append(temp_monthly[c],ignore_index = True)"
   ]
  },
  {
   "cell_type": "code",
   "execution_count": 8,
   "metadata": {},
   "outputs": [],
   "source": [
    "insert = insert.dropna(subset = ['Market Cap'])\n",
    "insert['pre'] = insert['Market Cap']*insert['weights']\n",
    "returns = insert.groupby('date').agg(sum)"
   ]
  },
  {
   "cell_type": "code",
   "execution_count": 9,
   "metadata": {},
   "outputs": [],
   "source": [
    "#A divisor is computed here. This divisor is proprietary information for S&P 500\n",
    "#so my team estimated it by finding the sum of weights * market caps for two different years and \n",
    "# dividing it by the proce of S&P at the beginning of the year and dividing it by 12\n",
    "divisor = ((returns[returns.index.year==2010]['pre'].sum())/1115.10/12 + (returns[returns.index.year==2019]['pre'].sum())/3230.78/12)/2"
   ]
  },
  {
   "cell_type": "code",
   "execution_count": 10,
   "metadata": {},
   "outputs": [
    {
     "data": {
      "text/plain": [
       "<matplotlib.axes._subplots.AxesSubplot at 0x1a39e705448>"
      ]
     },
     "execution_count": 10,
     "metadata": {},
     "output_type": "execute_result"
    },
    {
     "data": {
      "image/png": "[encoded data removed]",
      "text/plain": [
       "<Figure size 432x288 with 1 Axes>"
      ]
     },
     "metadata": {
      "needs_background": "light"
     },
     "output_type": "display_data"
    }
   ],
   "source": [
    "(returns['pre']/divisor).plot()"
   ]
  },
  {
   "cell_type": "code",
   "execution_count": 11,
   "metadata": {},
   "outputs": [
    {
     "data": {
      "text/plain": [
       "<matplotlib.legend.Legend at 0x1a3a05a4408>"
      ]
     },
     "execution_count": 11,
     "metadata": {},
     "output_type": "execute_result"
    },
    {
     "data": {
      "image/png": "[encoded data removed]",
      "text/plain": [
       "<Figure size 432x288 with 1 Axes>"
      ]
     },
     "metadata": {
      "needs_background": "light"
     },
     "output_type": "display_data"
    }
   ],
   "source": [
    "#This section is to find comparisons\n",
    "s_p_500 = pd.read_csv('s_p_500_new.csv')\n",
    "s_p_500 = list(s_p_500['spindx'])[1:]\n",
    "\n",
    "spy = pd.read_csv('spy.csv')\n",
    "spy = list(spy['PRC'])[1:]\n",
    "\n",
    "vfinx = pd.read_csv('VFINX (1).csv')\n",
    "vfinx = list(vfinx['Adj Close'][1:])\n",
    "\n",
    "my_index = list((returns['pre']/divisor))\n",
    "dates = list(returns.index)\n",
    "\n",
    "plt.plot_date(md.date2num(dates),my_index,'b-', label = 'Replicated Index')\n",
    "plt.plot_date(md.date2num(dates),s_p_500,'r-', label = 'S&P 500 Index')\n",
    "plt.legend()"
   ]
  },
  {
   "cell_type": "code",
   "execution_count": 12,
   "metadata": {},
   "outputs": [],
   "source": [
    "#finding returns\n",
    "price_df = pd.DataFrame(list(zip(my_index,s_p_500,spy,vfinx)), index = dates, columns = ['my_index','s_p_500','spy','vfinx'])\n",
    "price_df['my_index_return'] = (price_df['my_index']/price_df['my_index'].shift(1) - 1)\n",
    "price_df['s_p_500_return'] = (price_df['s_p_500']/price_df['s_p_500'].shift(1) - 1)\n",
    "price_df['spy_return'] = (price_df['spy']/price_df['spy'].shift(1) - 1)\n",
    "price_df['vfinx_return'] = (price_df['vfinx']/price_df['vfinx'].shift(1) - 1)"
   ]
  },
  {
   "cell_type": "code",
   "execution_count": 13,
   "metadata": {},
   "outputs": [
    {
     "name": "stdout",
     "output_type": "stream",
     "text": [
      "Expected annual return of my_index_return is 0.1446576477363959 and standard deviation is 0.14197653448538058\n",
      "Expected annual return of s_p_500_return is 0.12598191440210105 and standard deviation is 0.12422438227554362\n",
      "Expected annual return of spy_return is 0.12558197473851385 and standard deviation is 0.12446954345004461\n",
      "Expected annual return of vfinx_return is 0.14475775787770906 and standard deviation is 0.1265914121011978\n"
     ]
    }
   ],
   "source": [
    "def value_stats(l):\n",
    "    print('Expected annual return of {} is {} and standard deviation is {}'.format(l.name,(1+l.mean())**12-1, l.std()*12**0.5))\n",
    "\n",
    "value_stats(price_df['my_index_return'])\n",
    "value_stats(price_df['s_p_500_return'])\n",
    "value_stats(price_df['spy_return'])\n",
    "value_stats(price_df['vfinx_return'])"
   ]
  },
  {
   "cell_type": "markdown",
   "metadata": {},
   "source": [
    "# Dow Jones"
   ]
  },
  {
   "cell_type": "markdown",
   "metadata": {},
   "source": [
    "This code is similar to the S&P 500 so please refer to the code above for more info regarding code if there are any doubts."
   ]
  },
  {
   "cell_type": "code",
   "execution_count": 14,
   "metadata": {},
   "outputs": [
    {
     "data": {
      "text/html": [
       "<div>\n",
       "<style scoped>\n",
       "    .dataframe tbody tr th:only-of-type {\n",
       "        vertical-align: middle;\n",
       "    }\n",
       "\n",
       "    .dataframe tbody tr th {\n",
       "        vertical-align: top;\n",
       "    }\n",
       "\n",
       "    .dataframe thead th {\n",
       "        text-align: right;\n",
       "    }\n",
       "</style>\n",
       "<table border=\"1\" class=\"dataframe\">\n",
       "  <thead>\n",
       "    <tr style=\"text-align: right;\">\n",
       "      <th></th>\n",
       "      <th>year</th>\n",
       "      <th>TICKER</th>\n",
       "    </tr>\n",
       "  </thead>\n",
       "  <tbody>\n",
       "    <tr>\n",
       "      <th>0</th>\n",
       "      <td>2009</td>\n",
       "      <td>MMM</td>\n",
       "    </tr>\n",
       "    <tr>\n",
       "      <th>1</th>\n",
       "      <td>2009</td>\n",
       "      <td>AXP</td>\n",
       "    </tr>\n",
       "    <tr>\n",
       "      <th>2</th>\n",
       "      <td>2009</td>\n",
       "      <td>BA</td>\n",
       "    </tr>\n",
       "    <tr>\n",
       "      <th>3</th>\n",
       "      <td>2009</td>\n",
       "      <td>CAT</td>\n",
       "    </tr>\n",
       "    <tr>\n",
       "      <th>4</th>\n",
       "      <td>2009</td>\n",
       "      <td>CVX</td>\n",
       "    </tr>\n",
       "    <tr>\n",
       "      <th>...</th>\n",
       "      <td>...</td>\n",
       "      <td>...</td>\n",
       "    </tr>\n",
       "    <tr>\n",
       "      <th>295</th>\n",
       "      <td>2018</td>\n",
       "      <td>GS</td>\n",
       "    </tr>\n",
       "    <tr>\n",
       "      <th>296</th>\n",
       "      <td>2018</td>\n",
       "      <td>V</td>\n",
       "    </tr>\n",
       "    <tr>\n",
       "      <th>297</th>\n",
       "      <td>2018</td>\n",
       "      <td>AAPL</td>\n",
       "    </tr>\n",
       "    <tr>\n",
       "      <th>298</th>\n",
       "      <td>2018</td>\n",
       "      <td>DWDP</td>\n",
       "    </tr>\n",
       "    <tr>\n",
       "      <th>299</th>\n",
       "      <td>2018</td>\n",
       "      <td>WBA</td>\n",
       "    </tr>\n",
       "  </tbody>\n",
       "</table>\n",
       "<p>300 rows × 2 columns</p>\n",
       "</div>"
      ],
      "text/plain": [
       "     year TICKER\n",
       "0    2009    MMM\n",
       "1    2009    AXP\n",
       "2    2009     BA\n",
       "3    2009    CAT\n",
       "4    2009    CVX\n",
       "..    ...    ...\n",
       "295  2018     GS\n",
       "296  2018      V\n",
       "297  2018   AAPL\n",
       "298  2018   DWDP\n",
       "299  2018    WBA\n",
       "\n",
       "[300 rows x 2 columns]"
      ]
     },
     "execution_count": 14,
     "metadata": {},
     "output_type": "execute_result"
    }
   ],
   "source": [
    "#List of tickers and years that they were part of the index\n",
    "reconstitute = pd.read_csv('dj_companies.csv')\n",
    "reconstitute"
   ]
  },
  {
   "cell_type": "code",
   "execution_count": 15,
   "metadata": {},
   "outputs": [],
   "source": [
    "years = [2010,2011,2012,2013,2014,2015,2016,2017,2018,2019]\n",
    "quarters = [1,2,3,4]\n",
    "insert = pd.DataFrame()"
   ]
  },
  {
   "cell_type": "code",
   "execution_count": 16,
   "metadata": {},
   "outputs": [],
   "source": [
    "c = list(df_only_stock.columns)\n",
    "c.append('weights') #The weights have been adjusted to reflect price weighted nature\n",
    "for year in years:\n",
    "    list_of_companies = reconstitute[reconstitute['year'] == year-1][['TICKER']]\n",
    "    for quarter in quarters:\n",
    "        if quarter == 1:\n",
    "            temp_weights = df_only_stock[(df_only_stock['quarter'] == 4) & (df_only_stock['year'] == year-1) & (df_only_stock['month'] == 12)].merge(list_of_companies, how = 'inner')\n",
    "            temp_weights['weights'] = temp_weights['Adjusted prices']/temp_weights['Adjusted prices'].sum()\n",
    "            temp_monthly = df_only_stock[(df_only_stock['quarter'] == 1) & (df_only_stock['year'] == year)].merge(temp_weights, how = 'inner', on = 'TICKER', suffixes= (None, '_y'))\n",
    "            insert = insert.append(temp_monthly[c],ignore_index = True)\n",
    "        elif quarter == 2:\n",
    "            temp_weights = df_only_stock[(df_only_stock['quarter'] == 1) & (df_only_stock['year'] == year) & (df_only_stock['month'] == 3)].merge(list_of_companies, how = 'inner')\n",
    "            temp_weights['weights'] = temp_weights['Adjusted prices']/temp_weights['Adjusted prices'].sum()\n",
    "            temp_monthly = df_only_stock[(df_only_stock['quarter'] == 2) & (df_only_stock['year'] == year)].merge(temp_weights, how = 'inner', on = 'TICKER', suffixes= (None, '_y'))\n",
    "            insert = insert.append(temp_monthly[c],ignore_index = True)\n",
    "        elif quarter == 3:\n",
    "            temp_weights = df_only_stock[(df_only_stock['quarter'] == 2) & (df_only_stock['year'] == year) & (df_only_stock['month'] == 6)].merge(list_of_companies, how = 'inner')\n",
    "            temp_weights['weights'] = temp_weights['Adjusted prices']/temp_weights['Adjusted prices'].sum()\n",
    "            temp_monthly = df_only_stock[(df_only_stock['quarter'] == 3) & (df_only_stock['year'] == year)].merge(temp_weights, how = 'inner', on = 'TICKER', suffixes= (None, '_y'))\n",
    "            insert = insert.append(temp_monthly[c],ignore_index = True)\n",
    "        else:\n",
    "            temp_weights = df_only_stock[(df_only_stock['quarter'] == 3) & (df_only_stock['year'] == year) & (df_only_stock['month'] == 9)].merge(list_of_companies, how = 'inner')\n",
    "            temp_weights['weights'] = temp_weights['Adjusted prices']/temp_weights['Adjusted prices'].sum()\n",
    "            temp_monthly = df_only_stock[(df_only_stock['quarter'] == 4) & (df_only_stock['year'] == year)].merge(temp_weights, how = 'inner', on = 'TICKER', suffixes= (None, '_y'))\n",
    "            insert = insert.append(temp_monthly[c],ignore_index = True)"
   ]
  },
  {
   "cell_type": "code",
   "execution_count": 17,
   "metadata": {},
   "outputs": [],
   "source": [
    "insert['pre'] = insert['Adjusted prices']*insert['weights']\n",
    "returns = insert.groupby('date').agg(sum)"
   ]
  },
  {
   "cell_type": "code",
   "execution_count": 18,
   "metadata": {},
   "outputs": [],
   "source": [
    "divisor = ((12*8772.25)/(returns[returns.index.year==2010]['pre'].sum()) + (12*28538.44)/(returns[returns.index.year==2019]['pre'].sum()))/2"
   ]
  },
  {
   "cell_type": "code",
   "execution_count": 19,
   "metadata": {},
   "outputs": [
    {
     "data": {
      "text/plain": [
       "<matplotlib.axes._subplots.AxesSubplot at 0x1a3a061ac88>"
      ]
     },
     "execution_count": 19,
     "metadata": {},
     "output_type": "execute_result"
    },
    {
     "data": {
      "image/png": "[encoded data removed]",
      "text/plain": [
       "<Figure size 432x288 with 1 Axes>"
      ]
     },
     "metadata": {
      "needs_background": "light"
     },
     "output_type": "display_data"
    }
   ],
   "source": [
    "(returns['pre']*divisor).plot()"
   ]
  },
  {
   "cell_type": "code",
   "execution_count": 20,
   "metadata": {},
   "outputs": [
    {
     "data": {
      "text/plain": [
       "<matplotlib.legend.Legend at 0x1a39ff2bdc8>"
      ]
     },
     "execution_count": 20,
     "metadata": {},
     "output_type": "execute_result"
    },
    {
     "data": {
      "image/png": "[encoded data removed]",
      "text/plain": [
       "<Figure size 432x288 with 1 Axes>"
      ]
     },
     "metadata": {
      "needs_background": "light"
     },
     "output_type": "display_data"
    }
   ],
   "source": [
    "djia = pd.read_csv('^DJI (2).csv')\n",
    "djia = list(djia['Adj Close'])[1:]\n",
    "\n",
    "dia = pd.read_csv('DIA.csv')\n",
    "dia = list(dia['Adj Close'])[1:]\n",
    "\n",
    "rydax = pd.read_csv('RYDAX.csv')\n",
    "rydax = list(rydax['Adj Close'][1:])\n",
    "rydax = [np.nan]*72+rydax #For RYDAX, values for all the years could not be found.\n",
    "#So, I put an np.nan in there\n",
    "\n",
    "my_index = list((returns['pre']*157.9))\n",
    "dates = list(returns.index)\n",
    "\n",
    "plt.plot_date(md.date2num(dates),my_index,'b-', label = 'Replicated Index')\n",
    "plt.plot_date(md.date2num(dates),djia,'r-', label = 'DJIA')\n",
    "plt.legend()"
   ]
  },
  {
   "cell_type": "code",
   "execution_count": 21,
   "metadata": {},
   "outputs": [],
   "source": [
    "price_df = pd.DataFrame(list(zip(my_index,djia,dia,rydax)), index = dates, columns = ['my_index','djia','dia','rydax'])\n",
    "price_df['my_index_return'] = (price_df['my_index']/price_df['my_index'].shift(1) - 1)\n",
    "price_df['djia_return'] = (price_df['djia']/price_df['djia'].shift(1) - 1)\n",
    "price_df['dia_return'] = (price_df['dia']/price_df['dia'].shift(1) - 1)\n",
    "price_df['rydax_return'] = (price_df['rydax']/price_df['rydax'].shift(1) - 1)"
   ]
  },
  {
   "cell_type": "code",
   "execution_count": 22,
   "metadata": {},
   "outputs": [
    {
     "name": "stdout",
     "output_type": "stream",
     "text": [
      "Expected annual return of my_index_return is 0.13516058837456502 and standard deviation is 0.1308774572765402\n",
      "Expected annual return of djia_return is 0.11476296730767865 and standard deviation is 0.12041687122765767\n",
      "Expected annual return of dia_return is 0.1413722126570136 and standard deviation is 0.12132931061566224\n",
      "Expected annual return of rydax_return is 0.16450857922895334 and standard deviation is 0.12643698630753786\n"
     ]
    }
   ],
   "source": [
    "def value_stats(l):\n",
    "    print('Expected annual return of {} is {} and standard deviation is {}'.format(l.name,(1+l.mean())**12-1, l.std()*12**0.5))\n",
    "value_stats(price_df['my_index_return'])\n",
    "value_stats(price_df['djia_return'])\n",
    "value_stats(price_df['dia_return'])\n",
    "value_stats(price_df['rydax_return'])"
   ]
  }
 ],
 "metadata": {
  "kernelspec": {
   "display_name": "Python 3",
   "language": "python",
   "name": "python3"
  },
  "language_info": {
   "codemirror_mode": {
    "name": "ipython",
    "version": 3
   },
   "file_extension": ".py",
   "mimetype": "text/x-python",
   "name": "python",
   "nbconvert_exporter": "python",
   "pygments_lexer": "ipython3",
   "version": "3.7.4"
  }
 },
 "nbformat": 4,
 "nbformat_minor": 4
}
